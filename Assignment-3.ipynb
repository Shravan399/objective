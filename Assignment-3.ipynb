{
 "cells": [
  {
   "cell_type": "markdown",
   "metadata": {},
   "source": [
    "### Machine Learning Assignment -3 "
   ]
  },
  {
   "cell_type": "markdown",
   "metadata": {},
   "source": [
    "##### **1.** Write a function to compute 5/0 and use try/except to catch the exceptions."
   ]
  },
  {
   "cell_type": "markdown",
   "metadata": {},
   "source": [
    "**Solution:**"
   ]
  },
  {
   "cell_type": "code",
   "execution_count": 22,
   "metadata": {},
   "outputs": [
    {
     "name": "stdout",
     "output_type": "stream",
     "text": [
      "Enter two numbers-->15 0\n",
      "no output because of division by zero\n"
     ]
    }
   ],
   "source": [
    "# Program to divide two numbers\n",
    "\n",
    "user_input = list(map(int, input(\"Enter two numbers-->\").split()))\n",
    "numerator = user_input[0]\n",
    "denominator = user_input[1]\n",
    "\n",
    "try:\n",
    "    answer = numerator/denominator\n",
    "    print(f\"answer is --> {answer}\")\n",
    "    \n",
    "except Exception as e:\n",
    "    print(\"no output because of\", e) \n",
    "    "
   ]
  },
  {
   "cell_type": "markdown",
   "metadata": {},
   "source": [
    "##### **2.** Implement a Python program to generate all sentences where subject is in [\"Americans\",\n",
    "\"Indians\"] and verb is in [\"Play\", \"watch\"] and the object is in [\"Baseball\",\"cricket\"]. <br>\n",
    "\n",
    "**Hint:** Subject,Verb and Object should be declared in the program as shown below. <br>\n",
    "subjects=[\"Americans \",\"Indians\"] <br>\n",
    "verbs=[\"play\",\"watch\"]<br>\n",
    "objects=[\"Baseball\",\"Cricket\"] <br>\n",
    "**Output should come as below:**<br>\n",
    "Americans play Baseball. <br>\n",
    "Americans play Cricket. <br>\n",
    "Americans watch Baseball. <br>\n",
    "Americans watch Cricket. <br>\n",
    "Indians play Baseball. <br>\n",
    "Indians play Cricket. <br>\n",
    "Indians watch Baseball. <br>\n",
    "Indians watch Cricket.<br>"
   ]
  },
  {
   "cell_type": "code",
   "execution_count": 18,
   "metadata": {},
   "outputs": [
    {
     "name": "stdout",
     "output_type": "stream",
     "text": [
      "Americans play Baseball\n",
      "Americans play Cricket\n",
      "Americans watch Baseball\n",
      "Americans watch Cricket\n",
      "Indians play Baseball\n",
      "Indians play Cricket\n",
      "Indians watch Baseball\n",
      "Indians watch Cricket\n"
     ]
    }
   ],
   "source": [
    "subjects = [\"Americans\",\"Indians\"]\n",
    "verbs = [\"play\",\"watch\"]\n",
    "objects = [\"Baseball\",\"Cricket\"]\n",
    "\n",
    "# nested loop\n",
    "for subject in subjects:\n",
    "    for verb in verbs:\n",
    "        for obj in objects:\n",
    "            print(subject+\" \" + verb+\" \" + obj)\n",
    "\n"
   ]
  },
  {
   "cell_type": "markdown",
   "metadata": {},
   "source": [
    "##### **3.** Write a function so that the columns of the output matrix are powers of the input vector.\n",
    "The order of the powers is determined by the increasing boolean argument. Specifically, when\n",
    "increasing is False, the i-th output column is the input vector raised element-wise to the power\n",
    "of N - i - 1. <br>\n",
    "**HINT:** Such a matrix with a geometric progression in each row is named for AlexandreTheophile Vandermonde."
   ]
  },
  {
   "cell_type": "markdown",
   "metadata": {},
   "source": [
    "![alt text](https://wikimedia.org/api/rest_v1/media/math/render/svg/237d31d32749796a8b4361d56a37f91fa34f7d68)"
   ]
  },
  {
   "cell_type": "markdown",
   "metadata": {},
   "source": [
    "**Solution:**"
   ]
  },
  {
   "cell_type": "code",
   "execution_count": 17,
   "metadata": {},
   "outputs": [
    {
     "name": "stdout",
     "output_type": "stream",
     "text": [
      "Enter an input array-->1 2 3 4 5\n",
      "Number of columns in output matrix should be:-->5\n",
      "\n",
      "Tell whether you want the Vander matrix in incresing or decresing order of powers \n",
      "\n",
      "1. For increasing order, Enter True \n",
      "\n",
      "2. For decresing order, Enter False \n",
      "\n",
      " Please enter your answer:-->False\n",
      "\n",
      "Vander matrix of the input array in decresing order of powers is :\n",
      "-------------------------------------------------------------------------------- \n",
      "\n",
      "[1, 1, 1, 1, 1]\n",
      "[16, 8, 4, 2, 1]\n",
      "[81, 27, 9, 3, 1]\n",
      "[256, 64, 16, 4, 1]\n",
      "[625, 125, 25, 5, 1]\n"
     ]
    }
   ],
   "source": [
    "import math\n",
    "\n",
    "def create_matrix(input_array):\n",
    "    \"\"\"\n",
    "    This function creates matrix\n",
    "    \"\"\"\n",
    "    matrix = []\n",
    "    a = []\n",
    "    for _ in range(len(input_array)):\n",
    "         matrix.append(list(a))         \n",
    "    \n",
    "    return matrix\n",
    "\n",
    "def vandermonde(input_array, num_of_columns, increasing):\n",
    "    \"\"\"\n",
    "    This function gives vandemonde matrix\n",
    "    \"\"\"\n",
    "\n",
    "    matrix = create_matrix(input_array)\n",
    "    \n",
    "    if increasing == False:\n",
    "        for j in range(len(input_array)):\n",
    "            for i in range(num_of_columns):\n",
    "                matrix[j].append(pow(input_array[j],num_of_columns-i-1))\n",
    "                        \n",
    "    else:\n",
    "        for j in range(len(input_array)):\n",
    "            for i in range(num_of_columns-1,-1,-1):\n",
    "                matrix[j].append(pow(input_array[j],num_of_columns-i-1))\n",
    "                \n",
    "    return matrix\n",
    "\n",
    "def print_result(result, input_array, incresing):\n",
    "    \"\"\"\n",
    "    Print matrix\n",
    "    \"\"\"\n",
    "    \n",
    "    if incresing == True:\n",
    "        order = \"increasing\"\n",
    "    else:\n",
    "        order = \"decresing\"\n",
    "        \n",
    "    print(f\"\\nVander matrix of the input array in {order} order of powers is :\")\n",
    "    print(\"-\"*80,\"\\n\")\n",
    "    for j in range(len(input_array)):\n",
    "        print(result[j], end = \"\\n\")\n",
    "        \n",
    "\n",
    "def main():\n",
    "    # take input from user\n",
    "    input_array = list(map(int,input(\"Enter an input array-->\").split()))\n",
    "    num_of_columns = int(input(\"Number of columns in output matrix should be:-->\"))\n",
    "    \n",
    "    print(\"\\nTell whether you want the Vander matrix in incresing or decresing order of powers \\n\")\n",
    "    print(\"1. For increasing order, Enter True \\n\")\n",
    "    print(\"2. For decresing order, Enter False \\n\")\n",
    "    increasing = bool(input(\" Please enter your answer:-->\"))\n",
    "    # converting string input to bool input\n",
    "    if increasing ==\"True\":\n",
    "        increasing = True\n",
    "    else:\n",
    "        increasing = False\n",
    "        \n",
    "    result = vandermonde(input_array, num_of_columns, increasing) # call vandermonde() function\n",
    "    print_result(result, input_array, increasing)  # print results\n",
    "    \n",
    "    \n",
    "if __name__ ==\"__main__\":\n",
    "    # call main function\n",
    "    main()\n",
    "\n"
   ]
  },
  {
   "cell_type": "code",
   "execution_count": null,
   "metadata": {},
   "outputs": [],
   "source": []
  }
 ],
 "metadata": {
  "kernelspec": {
   "display_name": "Python 3",
   "language": "python",
   "name": "python3"
  },
  "language_info": {
   "codemirror_mode": {
    "name": "ipython",
    "version": 3
   },
   "file_extension": ".py",
   "mimetype": "text/x-python",
   "name": "python",
   "nbconvert_exporter": "python",
   "pygments_lexer": "ipython3",
   "version": "3.7.3"
  }
 },
 "nbformat": 4,
 "nbformat_minor": 4
}
